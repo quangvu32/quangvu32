{
  "nbformat": 4,
  "nbformat_minor": 0,
  "metadata": {
    "colab": {
      "provenance": [],
      "include_colab_link": true
    },
    "kernelspec": {
      "name": "python3",
      "display_name": "Python 3"
    },
    "language_info": {
      "name": "python"
    },
    "accelerator": "GPU",
    "gpuClass": "standard"
  },
  "cells": [
    {
      "cell_type": "markdown",
      "metadata": {
        "id": "view-in-github",
        "colab_type": "text"
      },
      "source": [
        "<a href=\"https://colab.research.google.com/github/quangvu32/quangvu32/blob/Deep-learning/%5B21522801%5D_ImageClassification_exercise.ipynb\" target=\"_parent\"><img src=\"https://colab.research.google.com/assets/colab-badge.svg\" alt=\"Open In Colab\"/></a>"
      ]
    },
    {
      "cell_type": "markdown",
      "source": [
        "### Inport necessary packages"
      ],
      "metadata": {
        "id": "HDTNiCTFMkMh"
      }
    },
    {
      "cell_type": "code",
      "source": [
        "import torch\n",
        "from torch.utils.data import DataLoader\n",
        "import torchvision.datasets as datasets\n",
        "import torchvision.transforms as transforms"
      ],
      "metadata": {
        "id": "JP7PLCNyyv3T"
      },
      "execution_count": 44,
      "outputs": []
    },
    {
      "cell_type": "code",
      "source": [
        "import matplotlib.pyplot as plt"
      ],
      "metadata": {
        "id": "5YxLttjnWkAI"
      },
      "execution_count": 2,
      "outputs": []
    },
    {
      "cell_type": "code",
      "source": [
        "import random\n",
        "import numpy as np"
      ],
      "metadata": {
        "id": "YYY1wKteWi-6"
      },
      "execution_count": 3,
      "outputs": []
    },
    {
      "cell_type": "code",
      "source": [
        "import torch.nn as nn\n",
        "import torch.nn.functional as F"
      ],
      "metadata": {
        "id": "nJdWaRvkMuzC"
      },
      "execution_count": 6,
      "outputs": []
    },
    {
      "cell_type": "code",
      "source": [
        "import os\n",
        "import cv2"
      ],
      "metadata": {
        "id": "2dw8ElsOMvVl"
      },
      "execution_count": 4,
      "outputs": []
    },
    {
      "cell_type": "code",
      "source": [
        "seed = 21522801"
      ],
      "metadata": {
        "id": "g72Nbha2pGLC"
      },
      "execution_count": 5,
      "outputs": []
    },
    {
      "cell_type": "code",
      "source": [
        "random.seed(seed)\n",
        "np.random.seed(seed)\n",
        "torch.manual_seed(seed)\n",
        "torch.backends.cudnn.deterministic = True\n",
        "torch.backends.cudnn.benchmark = False"
      ],
      "metadata": {
        "id": "Ux1pwHpipCeJ"
      },
      "execution_count": 7,
      "outputs": []
    },
    {
      "cell_type": "markdown",
      "source": [
        "### Load Folio Leaf Dataset"
      ],
      "metadata": {
        "id": "eCoKxN-gM6Dq"
      }
    },
    {
      "cell_type": "code",
      "source": [
        "from google.colab import drive\n",
        "drive.mount('/content/MyDrive')"
      ],
      "metadata": {
        "colab": {
          "base_uri": "https://localhost:8080/"
        },
        "id": "HajkEs-XMvWC",
        "outputId": "7d1374fe-dbc2-45fa-9646-e362dca5f342"
      },
      "execution_count": 45,
      "outputs": [
        {
          "output_type": "stream",
          "name": "stdout",
          "text": [
            "Drive already mounted at /content/MyDrive; to attempt to forcibly remount, call drive.mount(\"/content/MyDrive\", force_remount=True).\n"
          ]
        }
      ]
    },
    {
      "cell_type": "code",
      "source": [
        "root_dir=\"/content/MyDrive/MyDrive/Colab/Folio Leaf Dataset\"\n"
      ],
      "metadata": {
        "id": "zTjpMINjqyko"
      },
      "execution_count": 9,
      "outputs": []
    },
    {
      "cell_type": "code",
      "source": [
        "list_folders = os.listdir(root_dir)\n",
        "list_folders"
      ],
      "metadata": {
        "id": "1zOLYl_Iqyko",
        "colab": {
          "base_uri": "https://localhost:8080/"
        },
        "outputId": "298f181d-b391-4728-c370-bf99e89fdf21"
      },
      "execution_count": 10,
      "outputs": [
        {
          "output_type": "execute_result",
          "data": {
            "text/plain": [
              "['caricature plant',\n",
              " 'bitter orange',\n",
              " 'barbados cherry',\n",
              " 'chinese guava',\n",
              " 'chrysanthemum',\n",
              " 'ashanti blood',\n",
              " 'coeur demoiselle',\n",
              " 'beaumier du perou',\n",
              " 'chocolate tree',\n",
              " 'betel',\n",
              " 'ficus',\n",
              " 'guava',\n",
              " 'eggplant',\n",
              " 'croton',\n",
              " 'jackfruit',\n",
              " 'coffee',\n",
              " 'geranium',\n",
              " 'fruitcitere',\n",
              " 'duranta gold',\n",
              " 'hibiscus',\n",
              " 'mulberry leaf',\n",
              " 'ketembilla',\n",
              " 'rose',\n",
              " 'star apple',\n",
              " 'pomme jacquot',\n",
              " 'sweet potato',\n",
              " 'papaya',\n",
              " 'lychee',\n",
              " 'pimento',\n",
              " 'sweet olive',\n",
              " 'thevetia',\n",
              " 'vieux garcon']"
            ]
          },
          "metadata": {},
          "execution_count": 10
        }
      ]
    },
    {
      "cell_type": "code",
      "source": [
        "def resize(image):\n",
        "    return cv2.resize(image, (232, 412))"
      ],
      "metadata": {
        "id": "Z8I9PN4ts97c"
      },
      "execution_count": 11,
      "outputs": []
    },
    {
      "cell_type": "markdown",
      "source": [
        "### Process the raw data"
      ],
      "metadata": {
        "id": "hdib0J6FPqxp"
      }
    },
    {
      "cell_type": "code",
      "source": [
        "# Create dataset (X, y)\n",
        "X, y = [], []\n",
        "for folder in list_folders:\n",
        "  list_image_paths = os.listdir(root_dir + '/' + folder)\n",
        "  for image_path in list_image_paths:\n",
        "    img_matrix = resize(cv2.imread(root_dir + '/' + folder + '/' + image_path, 0))\n",
        "    X.append([img_matrix])\n",
        "    y.append(folder)"
      ],
      "metadata": {
        "id": "lMHjHCFJloPL"
      },
      "execution_count": 12,
      "outputs": []
    },
    {
      "cell_type": "code",
      "source": [
        "# Task: Normalize the value of each pixel by dividing them to 255\n",
        "X = np.array(X)/255"
      ],
      "metadata": {
        "id": "jw5AlCoxqykq"
      },
      "execution_count": 13,
      "outputs": []
    },
    {
      "cell_type": "code",
      "source": [
        "# Task: Perform 'label encoding' on y\n",
        "from sklearn.preprocessing import LabelEncoder\n",
        "le = LabelEncoder()"
      ],
      "metadata": {
        "id": "U5lpaX6tqykq"
      },
      "execution_count": 14,
      "outputs": []
    },
    {
      "cell_type": "code",
      "source": [
        "y = le.fit_transform(y)"
      ],
      "metadata": {
        "id": "6p8WjtU-ATPk"
      },
      "execution_count": 15,
      "outputs": []
    },
    {
      "cell_type": "markdown",
      "source": [
        "### Create the train/test set"
      ],
      "metadata": {
        "id": "nV3VMG9LPwMP"
      }
    },
    {
      "cell_type": "code",
      "source": [
        "# Task: Split dataset into training and testing set (7:3, random_seed = Your Student ID)\n",
        "from sklearn.model_selection import train_test_split\n",
        "X_train, X_test, y_train, y_test = train_test_split(X, y, test_size=0.3, random_state=seed)"
      ],
      "metadata": {
        "id": "QrscjPstqykr"
      },
      "execution_count": 16,
      "outputs": []
    },
    {
      "cell_type": "code",
      "source": [
        "print(X_train.shape)"
      ],
      "metadata": {
        "id": "PHd0ggPMqykt"
      },
      "execution_count": null,
      "outputs": []
    },
    {
      "cell_type": "code",
      "source": [
        "X_train, X_test = np.array(X_train), np.array(X_test)\n",
        "y_train, y_test = np.array(y_train), np.array(y_test)"
      ],
      "metadata": {
        "id": "8LqXswqNqyks"
      },
      "execution_count": 18,
      "outputs": []
    },
    {
      "cell_type": "code",
      "source": [
        "# Task: Convert the data type of X_train, X_test, y_train, y_test to 'Tensor'\n",
        "X_train = torch.from_numpy(X_train).float()\n",
        "X_test = torch.from_numpy(X_test).float()\n",
        "y_train = torch.from_numpy(y_train)\n",
        "y_test = torch.from_numpy(y_test)"
      ],
      "metadata": {
        "id": "5Zk2gCWfqyks"
      },
      "execution_count": 19,
      "outputs": []
    },
    {
      "cell_type": "code",
      "source": [
        "print(len(X_train))"
      ],
      "metadata": {
        "id": "1EcLr0eDQQei",
        "colab": {
          "base_uri": "https://localhost:8080/"
        },
        "outputId": "67d30270-1ddb-471c-ec30-91f6439faed0"
      },
      "execution_count": 20,
      "outputs": [
        {
          "output_type": "stream",
          "name": "stdout",
          "text": [
            "457\n"
          ]
        }
      ]
    },
    {
      "cell_type": "code",
      "source": [
        "# Task: Create train_dataset, test_dataset\n",
        "from torch.utils.data import TensorDataset\n",
        "train_dataset = TensorDataset(X_train, y_train)\n",
        "test_dataset = TensorDataset(X_test, y_test)"
      ],
      "metadata": {
        "id": "jP7Cz18Iqykt"
      },
      "execution_count": 21,
      "outputs": []
    },
    {
      "cell_type": "code",
      "source": [
        "# Task: Create train_loader (batch_size = 64), test_loader\n",
        "from torch.utils.data import DataLoader\n",
        "train_loader= DataLoader(train_dataset, batch_size=64, shuffle=True)\n",
        "test_loader= DataLoader(test_dataset)"
      ],
      "metadata": {
        "id": "6VafzaSKO7EH"
      },
      "execution_count": 22,
      "outputs": []
    },
    {
      "cell_type": "code",
      "source": [
        "print(train_dataset[0])"
      ],
      "metadata": {
        "id": "-qG76ZpVPCFP",
        "colab": {
          "base_uri": "https://localhost:8080/"
        },
        "outputId": "9c5d3958-80fe-41e1-85d7-1efe4c97a2d7"
      },
      "execution_count": 23,
      "outputs": [
        {
          "output_type": "stream",
          "name": "stdout",
          "text": [
            "(tensor([[[0.9216, 0.9137, 0.8980,  ..., 0.8902, 0.8784, 0.8863],\n",
            "         [0.8980, 0.9137, 0.9176,  ..., 0.8745, 0.8902, 0.8824],\n",
            "         [0.9098, 0.9137, 0.9059,  ..., 0.8824, 0.8824, 0.8784],\n",
            "         ...,\n",
            "         [0.6667, 0.6863, 0.6627,  ..., 0.6902, 0.7059, 0.6980],\n",
            "         [0.6667, 0.6667, 0.6784,  ..., 0.6980, 0.6980, 0.7059],\n",
            "         [0.6824, 0.6627, 0.6706,  ..., 0.6980, 0.7020, 0.6863]]]), tensor(20))\n"
          ]
        }
      ]
    },
    {
      "cell_type": "markdown",
      "source": [
        "### Implement Classifiers"
      ],
      "metadata": {
        "id": "SzV2uJkDPyvb"
      }
    },
    {
      "cell_type": "code",
      "source": [
        "import torch.nn as nn\n",
        "import torch.nn.functional as F"
      ],
      "metadata": {
        "id": "yB6h0O6i2sql"
      },
      "execution_count": 24,
      "outputs": []
    },
    {
      "cell_type": "code",
      "source": [
        "# Task: Implement \"Logistic Regression\" model with PyTorch\n",
        "class LogisticRegression(nn.Module):\n",
        "    def __init__(self, input_dim, output_dim):  \n",
        "        super().__init__()\n",
        "        self.linear = nn.Linear(input_dim, output_dim)\n",
        "        \n",
        "    def forward(self, x):\n",
        "        logits = self.linear(x)\n",
        "        probs = F.softmax(logits, dim=1)\n",
        "        return logits, probs"
      ],
      "metadata": {
        "id": "T4X5BfsQbKrJ"
      },
      "execution_count": 25,
      "outputs": []
    },
    {
      "cell_type": "code",
      "source": [
        "import torch.optim as optim"
      ],
      "metadata": {
        "id": "1hEhCqsBfWKr"
      },
      "execution_count": 26,
      "outputs": []
    },
    {
      "cell_type": "code",
      "source": [
        "device = torch.device('cuda' if torch.cuda.is_available() else 'cpu')\n",
        "device"
      ],
      "metadata": {
        "id": "S4dDN9_Pf2DA",
        "colab": {
          "base_uri": "https://localhost:8080/"
        },
        "outputId": "f9117870-b93a-4ebb-e459-bd4df0704998"
      },
      "execution_count": 27,
      "outputs": [
        {
          "output_type": "execute_result",
          "data": {
            "text/plain": [
              "device(type='cuda')"
            ]
          },
          "metadata": {},
          "execution_count": 27
        }
      ]
    },
    {
      "cell_type": "code",
      "source": [
        "# Task: Design the 'train_model' function for training models\n",
        "# Loss Function: Cross Entropy Loss\n",
        "# Optimizer: Adam -> optim.Adam(model.parameters(), lr=...)\n",
        "\n",
        "def train_model(data_loader, model, init_lr, maxEpoch):\n",
        "    # Loss Function\n",
        "    criterion = nn.CrossEntropyLoss()\n",
        "\n",
        "    # Optimization Algorithm.\n",
        "    optimizer = optim.Adam(model.parameters(), lr=init_lr)\n",
        "    \n",
        "    loss_each_epoch = []  # For tracking the trend of loss value\n",
        "    \n",
        "    # Switch model to the training mode\n",
        "    model.train()\n",
        "\n",
        "    for epoch in range(maxEpoch):\n",
        "        sum_loss = 0.0\n",
        "        for (imgs, labels) in data_loader:\n",
        "            # Load data to GPU/CPU\n",
        "            imgs, labels = imgs.to(device), labels.to(device)\n",
        "\n",
        "            # Change to the correct tensor shape\n",
        "            imgs = imgs.reshape(imgs.shape[0], -1)\n",
        "\n",
        "            # forward pass\n",
        "            logits, _ = model(imgs)  # Feed the training data into the model\n",
        "            loss = criterion(logits, labels)  # Calculate the loss value\n",
        "\n",
        "            # backward pass\n",
        "            optimizer.zero_grad()  # Empty the optimizer\n",
        "            loss.backward()  # Compute the gradient dJ/dw's\n",
        "\n",
        "            optimizer.step()  # Update the model's parameters\n",
        "\n",
        "            sum_loss += loss.item()\n",
        "        loss_each_epoch.append(sum_loss/len(data_loader.dataset))\n",
        "        print(f'Epoch {epoch + 1}/{maxEpoch}, Loss: {loss_each_epoch[-1]:.2f}')\n",
        "    return loss_each_epoch"
      ],
      "metadata": {
        "id": "pZotr39MfQVv"
      },
      "execution_count": 28,
      "outputs": []
    },
    {
      "cell_type": "code",
      "source": [
        "# Task: Design the 'model_evaluation' function for evaluating the trained models\n",
        "def model_evaluation(data_loader, model):\n",
        "    nCorrects = 0\n",
        "    model.eval()  # put our model on the evaluation mode\n",
        "\n",
        "    with torch.no_grad():\n",
        "        for (imgs, labels) in data_loader:\n",
        "            imgs, labels = imgs.to(device), labels.to(device)\n",
        "            imgs = imgs.reshape(imgs.shape[0], -1)\n",
        "\n",
        "            # forward\n",
        "            _, probs = model(imgs)\n",
        "            _, y_pred = probs.max(1)\n",
        "            nCorrects += (y_pred == labels).sum()\n",
        "    print(f'We got {nCorrects.item()}/{len(data_loader.dataset)} correct. Accuracy = {nCorrects.item()/len(data_loader.dataset) * 100:.2f}%')"
      ],
      "metadata": {
        "id": "4Ac_OL87wkO3"
      },
      "execution_count": 29,
      "outputs": []
    },
    {
      "cell_type": "code",
      "source": [
        "# Train Logistic Regression model\n",
        "# Input dim = 412 * 232\n",
        "# Output dim = 32\n",
        "# Initial Learning Rate: 0.001\n",
        "# Max Epoch = 600\n",
        "clf_LR = LogisticRegression(input_dim=412*232, output_dim=32).to(device)\n",
        "loss_each_epoch_LR = train_model(train_loader, clf_LR, 0.001, 600)"
      ],
      "metadata": {
        "id": "sn9y1nbgymZu",
        "colab": {
          "base_uri": "https://localhost:8080/"
        },
        "outputId": "12e02dbf-6841-4b99-da8d-4e7b15b9be54"
      },
      "execution_count": 30,
      "outputs": [
        {
          "output_type": "stream",
          "name": "stdout",
          "text": [
            "Epoch 1/600, Loss: 2.14\n",
            "Epoch 2/600, Loss: 3.21\n",
            "Epoch 3/600, Loss: 3.75\n",
            "Epoch 4/600, Loss: 3.30\n",
            "Epoch 5/600, Loss: 1.86\n",
            "Epoch 6/600, Loss: 1.22\n",
            "Epoch 7/600, Loss: 0.77\n",
            "Epoch 8/600, Loss: 0.47\n",
            "Epoch 9/600, Loss: 0.37\n",
            "Epoch 10/600, Loss: 0.21\n",
            "Epoch 11/600, Loss: 0.24\n",
            "Epoch 12/600, Loss: 0.11\n",
            "Epoch 13/600, Loss: 0.10\n",
            "Epoch 14/600, Loss: 0.10\n",
            "Epoch 15/600, Loss: 0.09\n",
            "Epoch 16/600, Loss: 0.07\n",
            "Epoch 17/600, Loss: 0.09\n",
            "Epoch 18/600, Loss: 0.07\n",
            "Epoch 19/600, Loss: 0.08\n",
            "Epoch 20/600, Loss: 0.08\n",
            "Epoch 21/600, Loss: 0.05\n",
            "Epoch 22/600, Loss: 0.06\n",
            "Epoch 23/600, Loss: 0.05\n",
            "Epoch 24/600, Loss: 0.10\n",
            "Epoch 25/600, Loss: 0.10\n",
            "Epoch 26/600, Loss: 0.10\n",
            "Epoch 27/600, Loss: 0.11\n",
            "Epoch 28/600, Loss: 0.09\n",
            "Epoch 29/600, Loss: 0.07\n",
            "Epoch 30/600, Loss: 0.09\n",
            "Epoch 31/600, Loss: 0.10\n",
            "Epoch 32/600, Loss: 0.05\n",
            "Epoch 33/600, Loss: 0.05\n",
            "Epoch 34/600, Loss: 0.04\n",
            "Epoch 35/600, Loss: 0.04\n",
            "Epoch 36/600, Loss: 0.04\n",
            "Epoch 37/600, Loss: 0.06\n",
            "Epoch 38/600, Loss: 0.06\n",
            "Epoch 39/600, Loss: 0.04\n",
            "Epoch 40/600, Loss: 0.06\n",
            "Epoch 41/600, Loss: 0.05\n",
            "Epoch 42/600, Loss: 0.06\n",
            "Epoch 43/600, Loss: 0.05\n",
            "Epoch 44/600, Loss: 0.04\n",
            "Epoch 45/600, Loss: 0.06\n",
            "Epoch 46/600, Loss: 0.04\n",
            "Epoch 47/600, Loss: 0.08\n",
            "Epoch 48/600, Loss: 0.11\n",
            "Epoch 49/600, Loss: 0.10\n",
            "Epoch 50/600, Loss: 0.05\n",
            "Epoch 51/600, Loss: 0.06\n",
            "Epoch 52/600, Loss: 0.05\n",
            "Epoch 53/600, Loss: 0.06\n",
            "Epoch 54/600, Loss: 0.04\n",
            "Epoch 55/600, Loss: 0.03\n",
            "Epoch 56/600, Loss: 0.03\n",
            "Epoch 57/600, Loss: 0.08\n",
            "Epoch 58/600, Loss: 0.05\n",
            "Epoch 59/600, Loss: 0.04\n",
            "Epoch 60/600, Loss: 0.04\n",
            "Epoch 61/600, Loss: 0.06\n",
            "Epoch 62/600, Loss: 0.06\n",
            "Epoch 63/600, Loss: 0.06\n",
            "Epoch 64/600, Loss: 0.11\n",
            "Epoch 65/600, Loss: 0.08\n",
            "Epoch 66/600, Loss: 0.06\n",
            "Epoch 67/600, Loss: 0.05\n",
            "Epoch 68/600, Loss: 0.04\n",
            "Epoch 69/600, Loss: 0.02\n",
            "Epoch 70/600, Loss: 0.02\n",
            "Epoch 71/600, Loss: 0.02\n",
            "Epoch 72/600, Loss: 0.04\n",
            "Epoch 73/600, Loss: 0.06\n",
            "Epoch 74/600, Loss: 0.07\n",
            "Epoch 75/600, Loss: 0.12\n",
            "Epoch 76/600, Loss: 0.13\n",
            "Epoch 77/600, Loss: 0.09\n",
            "Epoch 78/600, Loss: 0.06\n",
            "Epoch 79/600, Loss: 0.09\n",
            "Epoch 80/600, Loss: 0.09\n",
            "Epoch 81/600, Loss: 0.06\n",
            "Epoch 82/600, Loss: 0.04\n",
            "Epoch 83/600, Loss: 0.03\n",
            "Epoch 84/600, Loss: 0.02\n",
            "Epoch 85/600, Loss: 0.02\n",
            "Epoch 86/600, Loss: 0.01\n",
            "Epoch 87/600, Loss: 0.00\n",
            "Epoch 88/600, Loss: 0.01\n",
            "Epoch 89/600, Loss: 0.01\n",
            "Epoch 90/600, Loss: 0.02\n",
            "Epoch 91/600, Loss: 0.01\n",
            "Epoch 92/600, Loss: 0.02\n",
            "Epoch 93/600, Loss: 0.01\n",
            "Epoch 94/600, Loss: 0.01\n",
            "Epoch 95/600, Loss: 0.02\n",
            "Epoch 96/600, Loss: 0.02\n",
            "Epoch 97/600, Loss: 0.03\n",
            "Epoch 98/600, Loss: 0.02\n",
            "Epoch 99/600, Loss: 0.03\n",
            "Epoch 100/600, Loss: 0.04\n",
            "Epoch 101/600, Loss: 0.06\n",
            "Epoch 102/600, Loss: 0.10\n",
            "Epoch 103/600, Loss: 0.04\n",
            "Epoch 104/600, Loss: 0.05\n",
            "Epoch 105/600, Loss: 0.03\n",
            "Epoch 106/600, Loss: 0.05\n",
            "Epoch 107/600, Loss: 0.03\n",
            "Epoch 108/600, Loss: 0.02\n",
            "Epoch 109/600, Loss: 0.02\n",
            "Epoch 110/600, Loss: 0.02\n",
            "Epoch 111/600, Loss: 0.03\n",
            "Epoch 112/600, Loss: 0.06\n",
            "Epoch 113/600, Loss: 0.04\n",
            "Epoch 114/600, Loss: 0.09\n",
            "Epoch 115/600, Loss: 0.05\n",
            "Epoch 116/600, Loss: 0.04\n",
            "Epoch 117/600, Loss: 0.03\n",
            "Epoch 118/600, Loss: 0.01\n",
            "Epoch 119/600, Loss: 0.01\n",
            "Epoch 120/600, Loss: 0.03\n",
            "Epoch 121/600, Loss: 0.04\n",
            "Epoch 122/600, Loss: 0.06\n",
            "Epoch 123/600, Loss: 0.05\n",
            "Epoch 124/600, Loss: 0.11\n",
            "Epoch 125/600, Loss: 0.07\n",
            "Epoch 126/600, Loss: 0.04\n",
            "Epoch 127/600, Loss: 0.02\n",
            "Epoch 128/600, Loss: 0.02\n",
            "Epoch 129/600, Loss: 0.01\n",
            "Epoch 130/600, Loss: 0.01\n",
            "Epoch 131/600, Loss: 0.01\n",
            "Epoch 132/600, Loss: 0.01\n",
            "Epoch 133/600, Loss: 0.01\n",
            "Epoch 134/600, Loss: 0.02\n",
            "Epoch 135/600, Loss: 0.03\n",
            "Epoch 136/600, Loss: 0.02\n",
            "Epoch 137/600, Loss: 0.01\n",
            "Epoch 138/600, Loss: 0.03\n",
            "Epoch 139/600, Loss: 0.10\n",
            "Epoch 140/600, Loss: 0.07\n",
            "Epoch 141/600, Loss: 0.08\n",
            "Epoch 142/600, Loss: 0.04\n",
            "Epoch 143/600, Loss: 0.05\n",
            "Epoch 144/600, Loss: 0.02\n",
            "Epoch 145/600, Loss: 0.03\n",
            "Epoch 146/600, Loss: 0.03\n",
            "Epoch 147/600, Loss: 0.04\n",
            "Epoch 148/600, Loss: 0.03\n",
            "Epoch 149/600, Loss: 0.02\n",
            "Epoch 150/600, Loss: 0.02\n",
            "Epoch 151/600, Loss: 0.02\n",
            "Epoch 152/600, Loss: 0.02\n",
            "Epoch 153/600, Loss: 0.01\n",
            "Epoch 154/600, Loss: 0.01\n",
            "Epoch 155/600, Loss: 0.00\n",
            "Epoch 156/600, Loss: 0.01\n",
            "Epoch 157/600, Loss: 0.01\n",
            "Epoch 158/600, Loss: 0.03\n",
            "Epoch 159/600, Loss: 0.02\n",
            "Epoch 160/600, Loss: 0.05\n",
            "Epoch 161/600, Loss: 0.03\n",
            "Epoch 162/600, Loss: 0.05\n",
            "Epoch 163/600, Loss: 0.07\n",
            "Epoch 164/600, Loss: 0.08\n",
            "Epoch 165/600, Loss: 0.14\n",
            "Epoch 166/600, Loss: 0.15\n",
            "Epoch 167/600, Loss: 0.11\n",
            "Epoch 168/600, Loss: 0.11\n",
            "Epoch 169/600, Loss: 0.13\n",
            "Epoch 170/600, Loss: 0.06\n",
            "Epoch 171/600, Loss: 0.05\n",
            "Epoch 172/600, Loss: 0.05\n",
            "Epoch 173/600, Loss: 0.05\n",
            "Epoch 174/600, Loss: 0.06\n",
            "Epoch 175/600, Loss: 0.03\n",
            "Epoch 176/600, Loss: 0.02\n",
            "Epoch 177/600, Loss: 0.02\n",
            "Epoch 178/600, Loss: 0.02\n",
            "Epoch 179/600, Loss: 0.02\n",
            "Epoch 180/600, Loss: 0.05\n",
            "Epoch 181/600, Loss: 0.01\n",
            "Epoch 182/600, Loss: 0.01\n",
            "Epoch 183/600, Loss: 0.03\n",
            "Epoch 184/600, Loss: 0.01\n",
            "Epoch 185/600, Loss: 0.01\n",
            "Epoch 186/600, Loss: 0.00\n",
            "Epoch 187/600, Loss: 0.00\n",
            "Epoch 188/600, Loss: 0.00\n",
            "Epoch 189/600, Loss: 0.00\n",
            "Epoch 190/600, Loss: 0.00\n",
            "Epoch 191/600, Loss: 0.00\n",
            "Epoch 192/600, Loss: 0.00\n",
            "Epoch 193/600, Loss: 0.00\n",
            "Epoch 194/600, Loss: 0.00\n",
            "Epoch 195/600, Loss: 0.00\n",
            "Epoch 196/600, Loss: 0.00\n",
            "Epoch 197/600, Loss: 0.00\n",
            "Epoch 198/600, Loss: 0.00\n",
            "Epoch 199/600, Loss: 0.00\n",
            "Epoch 200/600, Loss: 0.00\n",
            "Epoch 201/600, Loss: 0.00\n",
            "Epoch 202/600, Loss: 0.00\n",
            "Epoch 203/600, Loss: 0.00\n",
            "Epoch 204/600, Loss: 0.00\n",
            "Epoch 205/600, Loss: 0.00\n",
            "Epoch 206/600, Loss: 0.00\n",
            "Epoch 207/600, Loss: 0.00\n",
            "Epoch 208/600, Loss: 0.00\n",
            "Epoch 209/600, Loss: 0.00\n",
            "Epoch 210/600, Loss: 0.00\n",
            "Epoch 211/600, Loss: 0.00\n",
            "Epoch 212/600, Loss: 0.00\n",
            "Epoch 213/600, Loss: 0.00\n",
            "Epoch 214/600, Loss: 0.00\n",
            "Epoch 215/600, Loss: 0.00\n",
            "Epoch 216/600, Loss: 0.00\n",
            "Epoch 217/600, Loss: 0.00\n",
            "Epoch 218/600, Loss: 0.00\n",
            "Epoch 219/600, Loss: 0.00\n",
            "Epoch 220/600, Loss: 0.00\n",
            "Epoch 221/600, Loss: 0.00\n",
            "Epoch 222/600, Loss: 0.00\n",
            "Epoch 223/600, Loss: 0.00\n",
            "Epoch 224/600, Loss: 0.00\n",
            "Epoch 225/600, Loss: 0.00\n",
            "Epoch 226/600, Loss: 0.00\n",
            "Epoch 227/600, Loss: 0.00\n",
            "Epoch 228/600, Loss: 0.00\n",
            "Epoch 229/600, Loss: 0.00\n",
            "Epoch 230/600, Loss: 0.00\n",
            "Epoch 231/600, Loss: 0.00\n",
            "Epoch 232/600, Loss: 0.00\n",
            "Epoch 233/600, Loss: 0.00\n",
            "Epoch 234/600, Loss: 0.00\n",
            "Epoch 235/600, Loss: 0.00\n",
            "Epoch 236/600, Loss: 0.00\n",
            "Epoch 237/600, Loss: 0.00\n",
            "Epoch 238/600, Loss: 0.00\n",
            "Epoch 239/600, Loss: 0.00\n",
            "Epoch 240/600, Loss: 0.00\n",
            "Epoch 241/600, Loss: 0.00\n",
            "Epoch 242/600, Loss: 0.00\n",
            "Epoch 243/600, Loss: 0.00\n",
            "Epoch 244/600, Loss: 0.00\n",
            "Epoch 245/600, Loss: 0.00\n",
            "Epoch 246/600, Loss: 0.00\n",
            "Epoch 247/600, Loss: 0.00\n",
            "Epoch 248/600, Loss: 0.00\n",
            "Epoch 249/600, Loss: 0.00\n",
            "Epoch 250/600, Loss: 0.00\n",
            "Epoch 251/600, Loss: 0.00\n",
            "Epoch 252/600, Loss: 0.00\n",
            "Epoch 253/600, Loss: 0.00\n",
            "Epoch 254/600, Loss: 0.00\n",
            "Epoch 255/600, Loss: 0.00\n",
            "Epoch 256/600, Loss: 0.00\n",
            "Epoch 257/600, Loss: 0.00\n",
            "Epoch 258/600, Loss: 0.00\n",
            "Epoch 259/600, Loss: 0.00\n",
            "Epoch 260/600, Loss: 0.00\n",
            "Epoch 261/600, Loss: 0.00\n",
            "Epoch 262/600, Loss: 0.00\n",
            "Epoch 263/600, Loss: 0.00\n",
            "Epoch 264/600, Loss: 0.00\n",
            "Epoch 265/600, Loss: 0.00\n",
            "Epoch 266/600, Loss: 0.00\n",
            "Epoch 267/600, Loss: 0.00\n",
            "Epoch 268/600, Loss: 0.00\n",
            "Epoch 269/600, Loss: 0.00\n",
            "Epoch 270/600, Loss: 0.00\n",
            "Epoch 271/600, Loss: 0.00\n",
            "Epoch 272/600, Loss: 0.00\n",
            "Epoch 273/600, Loss: 0.00\n",
            "Epoch 274/600, Loss: 0.00\n",
            "Epoch 275/600, Loss: 0.00\n",
            "Epoch 276/600, Loss: 0.00\n",
            "Epoch 277/600, Loss: 0.00\n",
            "Epoch 278/600, Loss: 0.00\n",
            "Epoch 279/600, Loss: 0.00\n",
            "Epoch 280/600, Loss: 0.00\n",
            "Epoch 281/600, Loss: 0.00\n",
            "Epoch 282/600, Loss: 0.00\n",
            "Epoch 283/600, Loss: 0.00\n",
            "Epoch 284/600, Loss: 0.00\n",
            "Epoch 285/600, Loss: 0.00\n",
            "Epoch 286/600, Loss: 0.00\n",
            "Epoch 287/600, Loss: 0.00\n",
            "Epoch 288/600, Loss: 0.00\n",
            "Epoch 289/600, Loss: 0.00\n",
            "Epoch 290/600, Loss: 0.00\n",
            "Epoch 291/600, Loss: 0.00\n",
            "Epoch 292/600, Loss: 0.00\n",
            "Epoch 293/600, Loss: 0.00\n",
            "Epoch 294/600, Loss: 0.00\n",
            "Epoch 295/600, Loss: 0.00\n",
            "Epoch 296/600, Loss: 0.00\n",
            "Epoch 297/600, Loss: 0.00\n",
            "Epoch 298/600, Loss: 0.00\n",
            "Epoch 299/600, Loss: 0.00\n",
            "Epoch 300/600, Loss: 0.00\n",
            "Epoch 301/600, Loss: 0.00\n",
            "Epoch 302/600, Loss: 0.00\n",
            "Epoch 303/600, Loss: 0.00\n",
            "Epoch 304/600, Loss: 0.00\n",
            "Epoch 305/600, Loss: 0.00\n",
            "Epoch 306/600, Loss: 0.00\n",
            "Epoch 307/600, Loss: 0.00\n",
            "Epoch 308/600, Loss: 0.00\n",
            "Epoch 309/600, Loss: 0.00\n",
            "Epoch 310/600, Loss: 0.00\n",
            "Epoch 311/600, Loss: 0.00\n",
            "Epoch 312/600, Loss: 0.00\n",
            "Epoch 313/600, Loss: 0.00\n",
            "Epoch 314/600, Loss: 0.00\n",
            "Epoch 315/600, Loss: 0.00\n",
            "Epoch 316/600, Loss: 0.00\n",
            "Epoch 317/600, Loss: 0.00\n",
            "Epoch 318/600, Loss: 0.00\n",
            "Epoch 319/600, Loss: 0.00\n",
            "Epoch 320/600, Loss: 0.00\n",
            "Epoch 321/600, Loss: 0.00\n",
            "Epoch 322/600, Loss: 0.00\n",
            "Epoch 323/600, Loss: 0.00\n",
            "Epoch 324/600, Loss: 0.00\n",
            "Epoch 325/600, Loss: 0.00\n",
            "Epoch 326/600, Loss: 0.00\n",
            "Epoch 327/600, Loss: 0.00\n",
            "Epoch 328/600, Loss: 0.00\n",
            "Epoch 329/600, Loss: 0.00\n",
            "Epoch 330/600, Loss: 0.00\n",
            "Epoch 331/600, Loss: 0.00\n",
            "Epoch 332/600, Loss: 0.00\n",
            "Epoch 333/600, Loss: 0.00\n",
            "Epoch 334/600, Loss: 0.00\n",
            "Epoch 335/600, Loss: 0.00\n",
            "Epoch 336/600, Loss: 0.00\n",
            "Epoch 337/600, Loss: 0.00\n",
            "Epoch 338/600, Loss: 0.00\n",
            "Epoch 339/600, Loss: 0.00\n",
            "Epoch 340/600, Loss: 0.00\n",
            "Epoch 341/600, Loss: 0.00\n",
            "Epoch 342/600, Loss: 0.00\n",
            "Epoch 343/600, Loss: 0.00\n",
            "Epoch 344/600, Loss: 0.00\n",
            "Epoch 345/600, Loss: 0.00\n",
            "Epoch 346/600, Loss: 0.00\n",
            "Epoch 347/600, Loss: 0.00\n",
            "Epoch 348/600, Loss: 0.00\n",
            "Epoch 349/600, Loss: 0.00\n",
            "Epoch 350/600, Loss: 0.00\n",
            "Epoch 351/600, Loss: 0.00\n",
            "Epoch 352/600, Loss: 0.00\n",
            "Epoch 353/600, Loss: 0.00\n",
            "Epoch 354/600, Loss: 0.00\n",
            "Epoch 355/600, Loss: 0.00\n",
            "Epoch 356/600, Loss: 0.00\n",
            "Epoch 357/600, Loss: 0.00\n",
            "Epoch 358/600, Loss: 0.00\n",
            "Epoch 359/600, Loss: 0.00\n",
            "Epoch 360/600, Loss: 0.00\n",
            "Epoch 361/600, Loss: 0.00\n",
            "Epoch 362/600, Loss: 0.00\n",
            "Epoch 363/600, Loss: 0.00\n",
            "Epoch 364/600, Loss: 0.00\n",
            "Epoch 365/600, Loss: 0.00\n",
            "Epoch 366/600, Loss: 0.00\n",
            "Epoch 367/600, Loss: 0.00\n",
            "Epoch 368/600, Loss: 0.00\n",
            "Epoch 369/600, Loss: 0.00\n",
            "Epoch 370/600, Loss: 0.00\n",
            "Epoch 371/600, Loss: 0.00\n",
            "Epoch 372/600, Loss: 0.00\n",
            "Epoch 373/600, Loss: 0.00\n",
            "Epoch 374/600, Loss: 0.00\n",
            "Epoch 375/600, Loss: 0.00\n",
            "Epoch 376/600, Loss: 0.00\n",
            "Epoch 377/600, Loss: 0.00\n",
            "Epoch 378/600, Loss: 0.00\n",
            "Epoch 379/600, Loss: 0.00\n",
            "Epoch 380/600, Loss: 0.00\n",
            "Epoch 381/600, Loss: 0.00\n",
            "Epoch 382/600, Loss: 0.00\n",
            "Epoch 383/600, Loss: 0.00\n",
            "Epoch 384/600, Loss: 0.00\n",
            "Epoch 385/600, Loss: 0.00\n",
            "Epoch 386/600, Loss: 0.00\n",
            "Epoch 387/600, Loss: 0.00\n",
            "Epoch 388/600, Loss: 0.00\n",
            "Epoch 389/600, Loss: 0.00\n",
            "Epoch 390/600, Loss: 0.00\n",
            "Epoch 391/600, Loss: 0.00\n",
            "Epoch 392/600, Loss: 0.00\n",
            "Epoch 393/600, Loss: 0.00\n",
            "Epoch 394/600, Loss: 0.00\n",
            "Epoch 395/600, Loss: 0.00\n",
            "Epoch 396/600, Loss: 0.00\n",
            "Epoch 397/600, Loss: 0.00\n",
            "Epoch 398/600, Loss: 0.00\n",
            "Epoch 399/600, Loss: 0.00\n",
            "Epoch 400/600, Loss: 0.00\n",
            "Epoch 401/600, Loss: 0.00\n",
            "Epoch 402/600, Loss: 0.00\n",
            "Epoch 403/600, Loss: 0.00\n",
            "Epoch 404/600, Loss: 0.00\n",
            "Epoch 405/600, Loss: 0.00\n",
            "Epoch 406/600, Loss: 0.00\n",
            "Epoch 407/600, Loss: 0.00\n",
            "Epoch 408/600, Loss: 0.00\n",
            "Epoch 409/600, Loss: 0.00\n",
            "Epoch 410/600, Loss: 0.00\n",
            "Epoch 411/600, Loss: 0.00\n",
            "Epoch 412/600, Loss: 0.00\n",
            "Epoch 413/600, Loss: 0.00\n",
            "Epoch 414/600, Loss: 0.00\n",
            "Epoch 415/600, Loss: 0.00\n",
            "Epoch 416/600, Loss: 0.00\n",
            "Epoch 417/600, Loss: 0.00\n",
            "Epoch 418/600, Loss: 0.00\n",
            "Epoch 419/600, Loss: 0.00\n",
            "Epoch 420/600, Loss: 0.00\n",
            "Epoch 421/600, Loss: 0.00\n",
            "Epoch 422/600, Loss: 0.00\n",
            "Epoch 423/600, Loss: 0.00\n",
            "Epoch 424/600, Loss: 0.00\n",
            "Epoch 425/600, Loss: 0.00\n",
            "Epoch 426/600, Loss: 0.00\n",
            "Epoch 427/600, Loss: 0.00\n",
            "Epoch 428/600, Loss: 0.00\n",
            "Epoch 429/600, Loss: 0.00\n",
            "Epoch 430/600, Loss: 0.00\n",
            "Epoch 431/600, Loss: 0.00\n",
            "Epoch 432/600, Loss: 0.00\n",
            "Epoch 433/600, Loss: 0.00\n",
            "Epoch 434/600, Loss: 0.00\n",
            "Epoch 435/600, Loss: 0.00\n",
            "Epoch 436/600, Loss: 0.00\n",
            "Epoch 437/600, Loss: 0.00\n",
            "Epoch 438/600, Loss: 0.00\n",
            "Epoch 439/600, Loss: 0.00\n",
            "Epoch 440/600, Loss: 0.00\n",
            "Epoch 441/600, Loss: 0.00\n",
            "Epoch 442/600, Loss: 0.00\n",
            "Epoch 443/600, Loss: 0.00\n",
            "Epoch 444/600, Loss: 0.00\n",
            "Epoch 445/600, Loss: 0.00\n",
            "Epoch 446/600, Loss: 0.00\n",
            "Epoch 447/600, Loss: 0.00\n",
            "Epoch 448/600, Loss: 0.00\n",
            "Epoch 449/600, Loss: 0.00\n",
            "Epoch 450/600, Loss: 0.00\n",
            "Epoch 451/600, Loss: 0.00\n",
            "Epoch 452/600, Loss: 0.00\n",
            "Epoch 453/600, Loss: 0.00\n",
            "Epoch 454/600, Loss: 0.00\n",
            "Epoch 455/600, Loss: 0.00\n",
            "Epoch 456/600, Loss: 0.00\n",
            "Epoch 457/600, Loss: 0.00\n",
            "Epoch 458/600, Loss: 0.00\n",
            "Epoch 459/600, Loss: 0.00\n",
            "Epoch 460/600, Loss: 0.00\n",
            "Epoch 461/600, Loss: 0.00\n",
            "Epoch 462/600, Loss: 0.00\n",
            "Epoch 463/600, Loss: 0.00\n",
            "Epoch 464/600, Loss: 0.00\n",
            "Epoch 465/600, Loss: 0.00\n",
            "Epoch 466/600, Loss: 0.00\n",
            "Epoch 467/600, Loss: 0.00\n",
            "Epoch 468/600, Loss: 0.00\n",
            "Epoch 469/600, Loss: 0.00\n",
            "Epoch 470/600, Loss: 0.00\n",
            "Epoch 471/600, Loss: 0.00\n",
            "Epoch 472/600, Loss: 0.00\n",
            "Epoch 473/600, Loss: 0.00\n",
            "Epoch 474/600, Loss: 0.00\n",
            "Epoch 475/600, Loss: 0.00\n",
            "Epoch 476/600, Loss: 0.00\n",
            "Epoch 477/600, Loss: 0.00\n",
            "Epoch 478/600, Loss: 0.00\n",
            "Epoch 479/600, Loss: 0.00\n",
            "Epoch 480/600, Loss: 0.00\n",
            "Epoch 481/600, Loss: 0.00\n",
            "Epoch 482/600, Loss: 0.00\n",
            "Epoch 483/600, Loss: 0.00\n",
            "Epoch 484/600, Loss: 0.00\n",
            "Epoch 485/600, Loss: 0.00\n",
            "Epoch 486/600, Loss: 0.00\n",
            "Epoch 487/600, Loss: 0.00\n",
            "Epoch 488/600, Loss: 0.00\n",
            "Epoch 489/600, Loss: 0.00\n",
            "Epoch 490/600, Loss: 0.00\n",
            "Epoch 491/600, Loss: 0.00\n",
            "Epoch 492/600, Loss: 0.00\n",
            "Epoch 493/600, Loss: 0.00\n",
            "Epoch 494/600, Loss: 0.00\n",
            "Epoch 495/600, Loss: 0.00\n",
            "Epoch 496/600, Loss: 0.00\n",
            "Epoch 497/600, Loss: 0.00\n",
            "Epoch 498/600, Loss: 0.00\n",
            "Epoch 499/600, Loss: 0.00\n",
            "Epoch 500/600, Loss: 0.00\n",
            "Epoch 501/600, Loss: 0.00\n",
            "Epoch 502/600, Loss: 0.00\n",
            "Epoch 503/600, Loss: 0.00\n",
            "Epoch 504/600, Loss: 0.00\n",
            "Epoch 505/600, Loss: 0.00\n",
            "Epoch 506/600, Loss: 0.00\n",
            "Epoch 507/600, Loss: 0.00\n",
            "Epoch 508/600, Loss: 0.00\n",
            "Epoch 509/600, Loss: 0.00\n",
            "Epoch 510/600, Loss: 0.00\n",
            "Epoch 511/600, Loss: 0.00\n",
            "Epoch 512/600, Loss: 0.00\n",
            "Epoch 513/600, Loss: 0.00\n",
            "Epoch 514/600, Loss: 0.00\n",
            "Epoch 515/600, Loss: 0.00\n",
            "Epoch 516/600, Loss: 0.00\n",
            "Epoch 517/600, Loss: 0.00\n",
            "Epoch 518/600, Loss: 0.00\n",
            "Epoch 519/600, Loss: 0.00\n",
            "Epoch 520/600, Loss: 0.00\n",
            "Epoch 521/600, Loss: 0.00\n",
            "Epoch 522/600, Loss: 0.00\n",
            "Epoch 523/600, Loss: 0.00\n",
            "Epoch 524/600, Loss: 0.00\n",
            "Epoch 525/600, Loss: 0.00\n",
            "Epoch 526/600, Loss: 0.00\n",
            "Epoch 527/600, Loss: 0.00\n",
            "Epoch 528/600, Loss: 0.00\n",
            "Epoch 529/600, Loss: 0.00\n",
            "Epoch 530/600, Loss: 0.00\n",
            "Epoch 531/600, Loss: 0.00\n",
            "Epoch 532/600, Loss: 0.00\n",
            "Epoch 533/600, Loss: 0.00\n",
            "Epoch 534/600, Loss: 0.00\n",
            "Epoch 535/600, Loss: 0.00\n",
            "Epoch 536/600, Loss: 0.00\n",
            "Epoch 537/600, Loss: 0.00\n",
            "Epoch 538/600, Loss: 0.00\n",
            "Epoch 539/600, Loss: 0.00\n",
            "Epoch 540/600, Loss: 0.00\n",
            "Epoch 541/600, Loss: 0.00\n",
            "Epoch 542/600, Loss: 0.00\n",
            "Epoch 543/600, Loss: 0.00\n",
            "Epoch 544/600, Loss: 0.00\n",
            "Epoch 545/600, Loss: 0.00\n",
            "Epoch 546/600, Loss: 0.00\n",
            "Epoch 547/600, Loss: 0.00\n",
            "Epoch 548/600, Loss: 0.00\n",
            "Epoch 549/600, Loss: 0.00\n",
            "Epoch 550/600, Loss: 0.00\n",
            "Epoch 551/600, Loss: 0.00\n",
            "Epoch 552/600, Loss: 0.00\n",
            "Epoch 553/600, Loss: 0.00\n",
            "Epoch 554/600, Loss: 0.00\n",
            "Epoch 555/600, Loss: 0.00\n",
            "Epoch 556/600, Loss: 0.00\n",
            "Epoch 557/600, Loss: 0.00\n",
            "Epoch 558/600, Loss: 0.00\n",
            "Epoch 559/600, Loss: 0.00\n",
            "Epoch 560/600, Loss: 0.00\n",
            "Epoch 561/600, Loss: 0.00\n",
            "Epoch 562/600, Loss: 0.00\n",
            "Epoch 563/600, Loss: 0.00\n",
            "Epoch 564/600, Loss: 0.00\n",
            "Epoch 565/600, Loss: 0.00\n",
            "Epoch 566/600, Loss: 0.00\n",
            "Epoch 567/600, Loss: 0.00\n",
            "Epoch 568/600, Loss: 0.00\n",
            "Epoch 569/600, Loss: 0.00\n",
            "Epoch 570/600, Loss: 0.00\n",
            "Epoch 571/600, Loss: 0.00\n",
            "Epoch 572/600, Loss: 0.00\n",
            "Epoch 573/600, Loss: 0.00\n",
            "Epoch 574/600, Loss: 0.00\n",
            "Epoch 575/600, Loss: 0.00\n",
            "Epoch 576/600, Loss: 0.00\n",
            "Epoch 577/600, Loss: 0.00\n",
            "Epoch 578/600, Loss: 0.00\n",
            "Epoch 579/600, Loss: 0.00\n",
            "Epoch 580/600, Loss: 0.00\n",
            "Epoch 581/600, Loss: 0.00\n",
            "Epoch 582/600, Loss: 0.00\n",
            "Epoch 583/600, Loss: 0.00\n",
            "Epoch 584/600, Loss: 0.00\n",
            "Epoch 585/600, Loss: 0.00\n",
            "Epoch 586/600, Loss: 0.00\n",
            "Epoch 587/600, Loss: 0.00\n",
            "Epoch 588/600, Loss: 0.00\n",
            "Epoch 589/600, Loss: 0.00\n",
            "Epoch 590/600, Loss: 0.00\n",
            "Epoch 591/600, Loss: 0.00\n",
            "Epoch 592/600, Loss: 0.00\n",
            "Epoch 593/600, Loss: 0.00\n",
            "Epoch 594/600, Loss: 0.00\n",
            "Epoch 595/600, Loss: 0.00\n",
            "Epoch 596/600, Loss: 0.00\n",
            "Epoch 597/600, Loss: 0.00\n",
            "Epoch 598/600, Loss: 0.00\n",
            "Epoch 599/600, Loss: 0.00\n",
            "Epoch 600/600, Loss: 0.00\n"
          ]
        }
      ]
    },
    {
      "cell_type": "code",
      "source": [
        "plt.plot(range(1, len(loss_each_epoch_LR) + 1), loss_each_epoch_LR)\n",
        "plt.xlabel('Epoch')\n",
        "plt.ylabel('Loss')\n",
        "plt.title('LogisticRegression')"
      ],
      "metadata": {
        "id": "R1RsvHAsy2UI",
        "colab": {
          "base_uri": "https://localhost:8080/",
          "height": 312
        },
        "outputId": "bf58a7a3-6f81-4620-8f08-7e036c006fe2"
      },
      "execution_count": 31,
      "outputs": [
        {
          "output_type": "execute_result",
          "data": {
            "text/plain": [
              "Text(0.5, 1.0, 'LogisticRegression')"
            ]
          },
          "metadata": {},
          "execution_count": 31
        },
        {
          "output_type": "display_data",
          "data": {
            "text/plain": [
              "<Figure size 432x288 with 1 Axes>"
            ],
            "image/png": "[encoded data removed]"
          },
          "metadata": {
            "needs_background": "light"
          }
        }
      ]
    },
    {
      "cell_type": "code",
      "source": [
        "print('Logistic Regression (Train Accuracy)')\n",
        "model_evaluation(data_loader=train_loader, model=clf_LR)"
      ],
      "metadata": {
        "id": "gEzLMsJRyAX_",
        "colab": {
          "base_uri": "https://localhost:8080/"
        },
        "outputId": "7f7b22db-3223-4324-b2bf-e47031dc429d"
      },
      "execution_count": 32,
      "outputs": [
        {
          "output_type": "stream",
          "name": "stdout",
          "text": [
            "Logistic Regression (Train Accuracy)\n",
            "We got 457/457 correct. Accuracy = 100.00%\n"
          ]
        }
      ]
    },
    {
      "cell_type": "code",
      "source": [
        "print('Logistic Regression (Test Accuracy)')\n",
        "model_evaluation(data_loader=test_loader, model=clf_LR)"
      ],
      "metadata": {
        "id": "RXNug6VYUaSx",
        "colab": {
          "base_uri": "https://localhost:8080/"
        },
        "outputId": "18b49676-fa70-4818-8ee5-8d65fa610fc4"
      },
      "execution_count": 33,
      "outputs": [
        {
          "output_type": "stream",
          "name": "stdout",
          "text": [
            "Logistic Regression (Test Accuracy)\n",
            "We got 152/197 correct. Accuracy = 77.16%\n"
          ]
        }
      ]
    },
    {
      "cell_type": "code",
      "source": [
        "ROW_IMG, N_ROWS = 3, 2\n",
        "\n",
        "fig = plt.figure()\n",
        "for index in range(1, ROW_IMG * N_ROWS + 1):\n",
        "    plt.subplot(N_ROWS, ROW_IMG, index)\n",
        "    plt.axis('off')\n",
        "    plt.imshow(test_dataset[index][0].squeeze(), cmap='gray_r')\n",
        "    \n",
        "    with torch.no_grad():\n",
        "        clf_LR.eval()\n",
        "        X = test_dataset[index][0].reshape(test_dataset[index][0].shape[0], -1).to(device)\n",
        "        _, probs = clf_LR(X)\n",
        "    title = f'Predict: {le.inverse_transform([torch.argmax(probs).item()])[0]} ({torch.max(probs * 100):.0f}%)\\n True Label: {le.inverse_transform([test_dataset[index][-1]])[0]}'\n",
        "    \n",
        "    plt.title(title, fontsize=7)\n",
        "plt.show()"
      ],
      "metadata": {
        "id": "gCrrs6EITLf2",
        "colab": {
          "base_uri": "https://localhost:8080/",
          "height": 267
        },
        "outputId": "cf0e1952-36f7-4c38-8604-c74a2c1dc9ed"
      },
      "execution_count": 34,
      "outputs": [
        {
          "output_type": "display_data",
          "data": {
            "text/plain": [
              "<Figure size 432x288 with 6 Axes>"
            ],
            "image/png": "[encoded data removed]"
          },
          "metadata": {
            "needs_background": "light"
          }
        }
      ]
    },
    {
      "cell_type": "code",
      "source": [
        "# Task: Build a MLP model with 6 layers (input layer, ouput layer and 4 hidden layers)\n",
        "# The activation of each node in 'input' layer and 'hidden' layers is ReLU\n",
        "# Information about each layer:\n",
        "# + Input layer: (input_dim, 2048)\n",
        "# + Hidden layer 1: (2048, 1024)\n",
        "# + Hidden layer 2: (1024, 1024)\n",
        "# + Hidden layer 3: (1024, 512)\n",
        "# + Hidden layer 4: (512, 512)\n",
        "# + Output layer: (512, output_dim)\n",
        "\n",
        "class MLP(nn.Module):\n",
        "    def __init__(self, input_dim, output_dim):\n",
        "        super().__init__()\n",
        "        self.classifier = nn.Sequential(\n",
        "            nn.Linear(input_dim, 2048),\n",
        "            nn.ReLU(),\n",
        "            nn.Linear(2048, 1024),\n",
        "            nn.ReLU(),\n",
        "            nn.Linear(1024, 1024),\n",
        "            nn.ReLU(),\n",
        "            nn.Linear(1024, 512),\n",
        "            nn.ReLU(),\n",
        "            nn.Linear(512, 512),\n",
        "            nn.ReLU(),\n",
        "            nn.Linear(512, output_dim)\n",
        "        )\n",
        "\n",
        "    def forward(self, x):\n",
        "        logits = self.classifier(x)\n",
        "        probs = F.softmax(logits, dim=1)\n",
        "        return logits, probs\n"
      ],
      "metadata": {
        "id": "r_Pm9qpp2Aa5"
      },
      "execution_count": 35,
      "outputs": []
    },
    {
      "cell_type": "code",
      "source": [
        "clf_MLP = MLP(input_dim=412 * 232, output_dim=32).to(device)\n",
        "clf_MLP"
      ],
      "metadata": {
        "id": "AvgokuKmT6LW",
        "colab": {
          "base_uri": "https://localhost:8080/"
        },
        "outputId": "17246b31-a734-4a33-b6c9-d0b8133f8ae1"
      },
      "execution_count": 36,
      "outputs": [
        {
          "output_type": "execute_result",
          "data": {
            "text/plain": [
              "MLP(\n",
              "  (classifier): Sequential(\n",
              "    (0): Linear(in_features=95584, out_features=2048, bias=True)\n",
              "    (1): ReLU()\n",
              "    (2): Linear(in_features=2048, out_features=1024, bias=True)\n",
              "    (3): ReLU()\n",
              "    (4): Linear(in_features=1024, out_features=1024, bias=True)\n",
              "    (5): ReLU()\n",
              "    (6): Linear(in_features=1024, out_features=512, bias=True)\n",
              "    (7): ReLU()\n",
              "    (8): Linear(in_features=512, out_features=512, bias=True)\n",
              "    (9): ReLU()\n",
              "    (10): Linear(in_features=512, out_features=32, bias=True)\n",
              "  )\n",
              ")"
            ]
          },
          "metadata": {},
          "execution_count": 36
        }
      ]
    },
    {
      "cell_type": "code",
      "source": [
        "# Train MLP model\n",
        "# Input dim = 412 * 233\n",
        "# Output dim = 32\n",
        "# Initial Learning Rate: 0.001\n",
        "# Max Epoch = 600\n",
        "loss_each_epoch_MLP = train_model(train_loader, clf_MLP, 0.001, 600)"
      ],
      "metadata": {
        "id": "uJCl4O0RReP7",
        "colab": {
          "base_uri": "https://localhost:8080/"
        },
        "outputId": "0556106e-f2d1-40db-ab15-fe90aaea14d2"
      },
      "execution_count": 39,
      "outputs": [
        {
          "output_type": "stream",
          "name": "stdout",
          "text": [
            "Epoch 1/600, Loss: 0.08\n",
            "Epoch 2/600, Loss: 0.06\n",
            "Epoch 3/600, Loss: 0.06\n",
            "Epoch 4/600, Loss: 0.06\n",
            "Epoch 5/600, Loss: 0.06\n",
            "Epoch 6/600, Loss: 0.06\n",
            "Epoch 7/600, Loss: 0.06\n",
            "Epoch 8/600, Loss: 0.06\n",
            "Epoch 9/600, Loss: 0.06\n",
            "Epoch 10/600, Loss: 0.05\n",
            "Epoch 11/600, Loss: 0.05\n",
            "Epoch 12/600, Loss: 0.05\n",
            "Epoch 13/600, Loss: 0.05\n",
            "Epoch 14/600, Loss: 0.05\n",
            "Epoch 15/600, Loss: 0.05\n",
            "Epoch 16/600, Loss: 0.05\n",
            "Epoch 17/600, Loss: 0.05\n",
            "Epoch 18/600, Loss: 0.04\n",
            "Epoch 19/600, Loss: 0.04\n",
            "Epoch 20/600, Loss: 0.04\n",
            "Epoch 21/600, Loss: 0.04\n",
            "Epoch 22/600, Loss: 0.04\n",
            "Epoch 23/600, Loss: 0.04\n",
            "Epoch 24/600, Loss: 0.04\n",
            "Epoch 25/600, Loss: 0.04\n",
            "Epoch 26/600, Loss: 0.04\n",
            "Epoch 27/600, Loss: 0.04\n",
            "Epoch 28/600, Loss: 0.04\n",
            "Epoch 29/600, Loss: 0.03\n",
            "Epoch 30/600, Loss: 0.03\n",
            "Epoch 31/600, Loss: 0.03\n",
            "Epoch 32/600, Loss: 0.03\n",
            "Epoch 33/600, Loss: 0.03\n",
            "Epoch 34/600, Loss: 0.03\n",
            "Epoch 35/600, Loss: 0.03\n",
            "Epoch 36/600, Loss: 0.03\n",
            "Epoch 37/600, Loss: 0.03\n",
            "Epoch 38/600, Loss: 0.03\n",
            "Epoch 39/600, Loss: 0.03\n",
            "Epoch 40/600, Loss: 0.03\n",
            "Epoch 41/600, Loss: 0.03\n",
            "Epoch 42/600, Loss: 0.03\n",
            "Epoch 43/600, Loss: 0.02\n",
            "Epoch 44/600, Loss: 0.02\n",
            "Epoch 45/600, Loss: 0.03\n",
            "Epoch 46/600, Loss: 0.03\n",
            "Epoch 47/600, Loss: 0.02\n",
            "Epoch 48/600, Loss: 0.02\n",
            "Epoch 49/600, Loss: 0.02\n",
            "Epoch 50/600, Loss: 0.02\n",
            "Epoch 51/600, Loss: 0.02\n",
            "Epoch 52/600, Loss: 0.02\n",
            "Epoch 53/600, Loss: 0.02\n",
            "Epoch 54/600, Loss: 0.02\n",
            "Epoch 55/600, Loss: 0.02\n",
            "Epoch 56/600, Loss: 0.02\n",
            "Epoch 57/600, Loss: 0.02\n",
            "Epoch 58/600, Loss: 0.02\n",
            "Epoch 59/600, Loss: 0.02\n",
            "Epoch 60/600, Loss: 0.02\n",
            "Epoch 61/600, Loss: 0.02\n",
            "Epoch 62/600, Loss: 0.02\n",
            "Epoch 63/600, Loss: 0.02\n",
            "Epoch 64/600, Loss: 0.02\n",
            "Epoch 65/600, Loss: 0.02\n",
            "Epoch 66/600, Loss: 0.01\n",
            "Epoch 67/600, Loss: 0.01\n",
            "Epoch 68/600, Loss: 0.01\n",
            "Epoch 69/600, Loss: 0.02\n",
            "Epoch 70/600, Loss: 0.01\n",
            "Epoch 71/600, Loss: 0.01\n",
            "Epoch 72/600, Loss: 0.01\n",
            "Epoch 73/600, Loss: 0.01\n",
            "Epoch 74/600, Loss: 0.01\n",
            "Epoch 75/600, Loss: 0.01\n",
            "Epoch 76/600, Loss: 0.01\n",
            "Epoch 77/600, Loss: 0.01\n",
            "Epoch 78/600, Loss: 0.01\n",
            "Epoch 79/600, Loss: 0.01\n",
            "Epoch 80/600, Loss: 0.02\n",
            "Epoch 81/600, Loss: 0.02\n",
            "Epoch 82/600, Loss: 0.02\n",
            "Epoch 83/600, Loss: 0.02\n",
            "Epoch 84/600, Loss: 0.01\n",
            "Epoch 85/600, Loss: 0.01\n",
            "Epoch 86/600, Loss: 0.01\n",
            "Epoch 87/600, Loss: 0.01\n",
            "Epoch 88/600, Loss: 0.01\n",
            "Epoch 89/600, Loss: 0.01\n",
            "Epoch 90/600, Loss: 0.01\n",
            "Epoch 91/600, Loss: 0.01\n",
            "Epoch 92/600, Loss: 0.01\n",
            "Epoch 93/600, Loss: 0.01\n",
            "Epoch 94/600, Loss: 0.01\n",
            "Epoch 95/600, Loss: 0.01\n",
            "Epoch 96/600, Loss: 0.01\n",
            "Epoch 97/600, Loss: 0.01\n",
            "Epoch 98/600, Loss: 0.01\n",
            "Epoch 99/600, Loss: 0.01\n",
            "Epoch 100/600, Loss: 0.01\n",
            "Epoch 101/600, Loss: 0.01\n",
            "Epoch 102/600, Loss: 0.01\n",
            "Epoch 103/600, Loss: 0.01\n",
            "Epoch 104/600, Loss: 0.01\n",
            "Epoch 105/600, Loss: 0.01\n",
            "Epoch 106/600, Loss: 0.01\n",
            "Epoch 107/600, Loss: 0.01\n",
            "Epoch 108/600, Loss: 0.01\n",
            "Epoch 109/600, Loss: 0.01\n",
            "Epoch 110/600, Loss: 0.01\n",
            "Epoch 111/600, Loss: 0.01\n",
            "Epoch 112/600, Loss: 0.01\n",
            "Epoch 113/600, Loss: 0.00\n",
            "Epoch 114/600, Loss: 0.00\n",
            "Epoch 115/600, Loss: 0.01\n",
            "Epoch 116/600, Loss: 0.01\n",
            "Epoch 117/600, Loss: 0.02\n",
            "Epoch 118/600, Loss: 0.01\n",
            "Epoch 119/600, Loss: 0.02\n",
            "Epoch 120/600, Loss: 0.01\n",
            "Epoch 121/600, Loss: 0.01\n",
            "Epoch 122/600, Loss: 0.01\n",
            "Epoch 123/600, Loss: 0.01\n",
            "Epoch 124/600, Loss: 0.01\n",
            "Epoch 125/600, Loss: 0.01\n",
            "Epoch 126/600, Loss: 0.01\n",
            "Epoch 127/600, Loss: 0.01\n",
            "Epoch 128/600, Loss: 0.01\n",
            "Epoch 129/600, Loss: 0.00\n",
            "Epoch 130/600, Loss: 0.00\n",
            "Epoch 131/600, Loss: 0.00\n",
            "Epoch 132/600, Loss: 0.00\n",
            "Epoch 133/600, Loss: 0.00\n",
            "Epoch 134/600, Loss: 0.00\n",
            "Epoch 135/600, Loss: 0.00\n",
            "Epoch 136/600, Loss: 0.00\n",
            "Epoch 137/600, Loss: 0.01\n",
            "Epoch 138/600, Loss: 0.01\n",
            "Epoch 139/600, Loss: 0.01\n",
            "Epoch 140/600, Loss: 0.01\n",
            "Epoch 141/600, Loss: 0.01\n",
            "Epoch 142/600, Loss: 0.01\n",
            "Epoch 143/600, Loss: 0.01\n",
            "Epoch 144/600, Loss: 0.01\n",
            "Epoch 145/600, Loss: 0.01\n",
            "Epoch 146/600, Loss: 0.02\n",
            "Epoch 147/600, Loss: 0.01\n",
            "Epoch 148/600, Loss: 0.01\n",
            "Epoch 149/600, Loss: 0.01\n",
            "Epoch 150/600, Loss: 0.01\n",
            "Epoch 151/600, Loss: 0.00\n",
            "Epoch 152/600, Loss: 0.00\n",
            "Epoch 153/600, Loss: 0.00\n",
            "Epoch 154/600, Loss: 0.00\n",
            "Epoch 155/600, Loss: 0.00\n",
            "Epoch 156/600, Loss: 0.00\n",
            "Epoch 157/600, Loss: 0.00\n",
            "Epoch 158/600, Loss: 0.01\n",
            "Epoch 159/600, Loss: 0.01\n",
            "Epoch 160/600, Loss: 0.02\n",
            "Epoch 161/600, Loss: 0.02\n",
            "Epoch 162/600, Loss: 0.01\n",
            "Epoch 163/600, Loss: 0.01\n",
            "Epoch 164/600, Loss: 0.01\n",
            "Epoch 165/600, Loss: 0.00\n",
            "Epoch 166/600, Loss: 0.00\n",
            "Epoch 167/600, Loss: 0.00\n",
            "Epoch 168/600, Loss: 0.00\n",
            "Epoch 169/600, Loss: 0.00\n",
            "Epoch 170/600, Loss: 0.00\n",
            "Epoch 171/600, Loss: 0.00\n",
            "Epoch 172/600, Loss: 0.00\n",
            "Epoch 173/600, Loss: 0.00\n",
            "Epoch 174/600, Loss: 0.00\n",
            "Epoch 175/600, Loss: 0.00\n",
            "Epoch 176/600, Loss: 0.00\n",
            "Epoch 177/600, Loss: 0.01\n",
            "Epoch 178/600, Loss: 0.03\n",
            "Epoch 179/600, Loss: 0.03\n",
            "Epoch 180/600, Loss: 0.02\n",
            "Epoch 181/600, Loss: 0.01\n",
            "Epoch 182/600, Loss: 0.01\n",
            "Epoch 183/600, Loss: 0.00\n",
            "Epoch 184/600, Loss: 0.00\n",
            "Epoch 185/600, Loss: 0.00\n",
            "Epoch 186/600, Loss: 0.00\n",
            "Epoch 187/600, Loss: 0.00\n",
            "Epoch 188/600, Loss: 0.00\n",
            "Epoch 189/600, Loss: 0.00\n",
            "Epoch 190/600, Loss: 0.00\n",
            "Epoch 191/600, Loss: 0.00\n",
            "Epoch 192/600, Loss: 0.00\n",
            "Epoch 193/600, Loss: 0.00\n",
            "Epoch 194/600, Loss: 0.00\n",
            "Epoch 195/600, Loss: 0.00\n",
            "Epoch 196/600, Loss: 0.00\n",
            "Epoch 197/600, Loss: 0.00\n",
            "Epoch 198/600, Loss: 0.00\n",
            "Epoch 199/600, Loss: 0.00\n",
            "Epoch 200/600, Loss: 0.00\n",
            "Epoch 201/600, Loss: 0.00\n",
            "Epoch 202/600, Loss: 0.00\n",
            "Epoch 203/600, Loss: 0.00\n",
            "Epoch 204/600, Loss: 0.00\n",
            "Epoch 205/600, Loss: 0.00\n",
            "Epoch 206/600, Loss: 0.00\n",
            "Epoch 207/600, Loss: 0.00\n",
            "Epoch 208/600, Loss: 0.00\n",
            "Epoch 209/600, Loss: 0.00\n",
            "Epoch 210/600, Loss: 0.00\n",
            "Epoch 211/600, Loss: 0.01\n",
            "Epoch 212/600, Loss: 0.02\n",
            "Epoch 213/600, Loss: 0.01\n",
            "Epoch 214/600, Loss: 0.01\n",
            "Epoch 215/600, Loss: 0.01\n",
            "Epoch 216/600, Loss: 0.01\n",
            "Epoch 217/600, Loss: 0.00\n",
            "Epoch 218/600, Loss: 0.00\n",
            "Epoch 219/600, Loss: 0.00\n",
            "Epoch 220/600, Loss: 0.00\n",
            "Epoch 221/600, Loss: 0.00\n",
            "Epoch 222/600, Loss: 0.00\n",
            "Epoch 223/600, Loss: 0.00\n",
            "Epoch 224/600, Loss: 0.00\n",
            "Epoch 225/600, Loss: 0.00\n",
            "Epoch 226/600, Loss: 0.00\n",
            "Epoch 227/600, Loss: 0.00\n",
            "Epoch 228/600, Loss: 0.00\n",
            "Epoch 229/600, Loss: 0.00\n",
            "Epoch 230/600, Loss: 0.00\n",
            "Epoch 231/600, Loss: 0.00\n",
            "Epoch 232/600, Loss: 0.01\n",
            "Epoch 233/600, Loss: 0.04\n",
            "Epoch 234/600, Loss: 0.04\n",
            "Epoch 235/600, Loss: 0.02\n",
            "Epoch 236/600, Loss: 0.02\n",
            "Epoch 237/600, Loss: 0.01\n",
            "Epoch 238/600, Loss: 0.01\n",
            "Epoch 239/600, Loss: 0.00\n",
            "Epoch 240/600, Loss: 0.00\n",
            "Epoch 241/600, Loss: 0.01\n",
            "Epoch 242/600, Loss: 0.01\n",
            "Epoch 243/600, Loss: 0.00\n",
            "Epoch 244/600, Loss: 0.01\n",
            "Epoch 245/600, Loss: 0.01\n",
            "Epoch 246/600, Loss: 0.01\n",
            "Epoch 247/600, Loss: 0.00\n",
            "Epoch 248/600, Loss: 0.00\n",
            "Epoch 249/600, Loss: 0.00\n",
            "Epoch 250/600, Loss: 0.00\n",
            "Epoch 251/600, Loss: 0.00\n",
            "Epoch 252/600, Loss: 0.00\n",
            "Epoch 253/600, Loss: 0.00\n",
            "Epoch 254/600, Loss: 0.00\n",
            "Epoch 255/600, Loss: 0.00\n",
            "Epoch 256/600, Loss: 0.00\n",
            "Epoch 257/600, Loss: 0.00\n",
            "Epoch 258/600, Loss: 0.00\n",
            "Epoch 259/600, Loss: 0.00\n",
            "Epoch 260/600, Loss: 0.00\n",
            "Epoch 261/600, Loss: 0.01\n",
            "Epoch 262/600, Loss: 0.03\n",
            "Epoch 263/600, Loss: 0.02\n",
            "Epoch 264/600, Loss: 0.01\n",
            "Epoch 265/600, Loss: 0.01\n",
            "Epoch 266/600, Loss: 0.00\n",
            "Epoch 267/600, Loss: 0.00\n",
            "Epoch 268/600, Loss: 0.00\n",
            "Epoch 269/600, Loss: 0.00\n",
            "Epoch 270/600, Loss: 0.00\n",
            "Epoch 271/600, Loss: 0.01\n",
            "Epoch 272/600, Loss: 0.01\n",
            "Epoch 273/600, Loss: 0.00\n",
            "Epoch 274/600, Loss: 0.01\n",
            "Epoch 275/600, Loss: 0.00\n",
            "Epoch 276/600, Loss: 0.00\n",
            "Epoch 277/600, Loss: 0.00\n",
            "Epoch 278/600, Loss: 0.00\n",
            "Epoch 279/600, Loss: 0.00\n",
            "Epoch 280/600, Loss: 0.00\n",
            "Epoch 281/600, Loss: 0.00\n",
            "Epoch 282/600, Loss: 0.00\n",
            "Epoch 283/600, Loss: 0.00\n",
            "Epoch 284/600, Loss: 0.00\n",
            "Epoch 285/600, Loss: 0.00\n",
            "Epoch 286/600, Loss: 0.00\n",
            "Epoch 287/600, Loss: 0.00\n",
            "Epoch 288/600, Loss: 0.00\n",
            "Epoch 289/600, Loss: 0.00\n",
            "Epoch 290/600, Loss: 0.00\n",
            "Epoch 291/600, Loss: 0.00\n",
            "Epoch 292/600, Loss: 0.00\n",
            "Epoch 293/600, Loss: 0.00\n",
            "Epoch 294/600, Loss: 0.00\n",
            "Epoch 295/600, Loss: 0.00\n",
            "Epoch 296/600, Loss: 0.00\n",
            "Epoch 297/600, Loss: 0.00\n",
            "Epoch 298/600, Loss: 0.00\n",
            "Epoch 299/600, Loss: 0.00\n",
            "Epoch 300/600, Loss: 0.00\n",
            "Epoch 301/600, Loss: 0.00\n",
            "Epoch 302/600, Loss: 0.00\n",
            "Epoch 303/600, Loss: 0.00\n",
            "Epoch 304/600, Loss: 0.00\n",
            "Epoch 305/600, Loss: 0.00\n",
            "Epoch 306/600, Loss: 0.00\n",
            "Epoch 307/600, Loss: 0.00\n",
            "Epoch 308/600, Loss: 0.00\n",
            "Epoch 309/600, Loss: 0.00\n",
            "Epoch 310/600, Loss: 0.00\n",
            "Epoch 311/600, Loss: 0.00\n",
            "Epoch 312/600, Loss: 0.00\n",
            "Epoch 313/600, Loss: 0.00\n",
            "Epoch 314/600, Loss: 0.00\n",
            "Epoch 315/600, Loss: 0.00\n",
            "Epoch 316/600, Loss: 0.00\n",
            "Epoch 317/600, Loss: 0.00\n",
            "Epoch 318/600, Loss: 0.00\n",
            "Epoch 319/600, Loss: 0.00\n",
            "Epoch 320/600, Loss: 0.00\n",
            "Epoch 321/600, Loss: 0.00\n",
            "Epoch 322/600, Loss: 0.00\n",
            "Epoch 323/600, Loss: 0.00\n",
            "Epoch 324/600, Loss: 0.00\n",
            "Epoch 325/600, Loss: 0.00\n",
            "Epoch 326/600, Loss: 0.00\n",
            "Epoch 327/600, Loss: 0.00\n",
            "Epoch 328/600, Loss: 0.00\n",
            "Epoch 329/600, Loss: 0.00\n",
            "Epoch 330/600, Loss: 0.00\n",
            "Epoch 331/600, Loss: 0.00\n",
            "Epoch 332/600, Loss: 0.00\n",
            "Epoch 333/600, Loss: 0.00\n",
            "Epoch 334/600, Loss: 0.00\n",
            "Epoch 335/600, Loss: 0.00\n",
            "Epoch 336/600, Loss: 0.00\n",
            "Epoch 337/600, Loss: 0.00\n",
            "Epoch 338/600, Loss: 0.00\n",
            "Epoch 339/600, Loss: 0.00\n",
            "Epoch 340/600, Loss: 0.00\n",
            "Epoch 341/600, Loss: 0.00\n",
            "Epoch 342/600, Loss: 0.00\n",
            "Epoch 343/600, Loss: 0.00\n",
            "Epoch 344/600, Loss: 0.00\n",
            "Epoch 345/600, Loss: 0.00\n",
            "Epoch 346/600, Loss: 0.00\n",
            "Epoch 347/600, Loss: 0.00\n",
            "Epoch 348/600, Loss: 0.00\n",
            "Epoch 349/600, Loss: 0.00\n",
            "Epoch 350/600, Loss: 0.00\n",
            "Epoch 351/600, Loss: 0.00\n",
            "Epoch 352/600, Loss: 0.00\n",
            "Epoch 353/600, Loss: 0.00\n",
            "Epoch 354/600, Loss: 0.00\n",
            "Epoch 355/600, Loss: 0.00\n",
            "Epoch 356/600, Loss: 0.00\n",
            "Epoch 357/600, Loss: 0.00\n",
            "Epoch 358/600, Loss: 0.00\n",
            "Epoch 359/600, Loss: 0.00\n",
            "Epoch 360/600, Loss: 0.00\n",
            "Epoch 361/600, Loss: 0.00\n",
            "Epoch 362/600, Loss: 0.00\n",
            "Epoch 363/600, Loss: 0.00\n",
            "Epoch 364/600, Loss: 0.00\n",
            "Epoch 365/600, Loss: 0.00\n",
            "Epoch 366/600, Loss: 0.00\n",
            "Epoch 367/600, Loss: 0.00\n",
            "Epoch 368/600, Loss: 0.00\n",
            "Epoch 369/600, Loss: 0.00\n",
            "Epoch 370/600, Loss: 0.00\n",
            "Epoch 371/600, Loss: 0.00\n",
            "Epoch 372/600, Loss: 0.00\n",
            "Epoch 373/600, Loss: 0.00\n",
            "Epoch 374/600, Loss: 0.00\n",
            "Epoch 375/600, Loss: 0.00\n",
            "Epoch 376/600, Loss: 0.00\n",
            "Epoch 377/600, Loss: 0.00\n",
            "Epoch 378/600, Loss: 0.00\n",
            "Epoch 379/600, Loss: 0.00\n",
            "Epoch 380/600, Loss: 0.00\n",
            "Epoch 381/600, Loss: 0.00\n",
            "Epoch 382/600, Loss: 0.00\n",
            "Epoch 383/600, Loss: 0.00\n",
            "Epoch 384/600, Loss: 0.00\n",
            "Epoch 385/600, Loss: 0.00\n",
            "Epoch 386/600, Loss: 0.00\n",
            "Epoch 387/600, Loss: 0.00\n",
            "Epoch 388/600, Loss: 0.00\n",
            "Epoch 389/600, Loss: 0.00\n",
            "Epoch 390/600, Loss: 0.00\n",
            "Epoch 391/600, Loss: 0.00\n",
            "Epoch 392/600, Loss: 0.00\n",
            "Epoch 393/600, Loss: 0.00\n",
            "Epoch 394/600, Loss: 0.00\n",
            "Epoch 395/600, Loss: 0.00\n",
            "Epoch 396/600, Loss: 0.00\n",
            "Epoch 397/600, Loss: 0.00\n",
            "Epoch 398/600, Loss: 0.00\n",
            "Epoch 399/600, Loss: 0.00\n",
            "Epoch 400/600, Loss: 0.00\n",
            "Epoch 401/600, Loss: 0.00\n",
            "Epoch 402/600, Loss: 0.00\n",
            "Epoch 403/600, Loss: 0.00\n",
            "Epoch 404/600, Loss: 0.00\n",
            "Epoch 405/600, Loss: 0.00\n",
            "Epoch 406/600, Loss: 0.00\n",
            "Epoch 407/600, Loss: 0.00\n",
            "Epoch 408/600, Loss: 0.00\n",
            "Epoch 409/600, Loss: 0.00\n",
            "Epoch 410/600, Loss: 0.00\n",
            "Epoch 411/600, Loss: 0.00\n",
            "Epoch 412/600, Loss: 0.00\n",
            "Epoch 413/600, Loss: 0.00\n",
            "Epoch 414/600, Loss: 0.00\n",
            "Epoch 415/600, Loss: 0.00\n",
            "Epoch 416/600, Loss: 0.00\n",
            "Epoch 417/600, Loss: 0.00\n",
            "Epoch 418/600, Loss: 0.00\n",
            "Epoch 419/600, Loss: 0.00\n",
            "Epoch 420/600, Loss: 0.00\n",
            "Epoch 421/600, Loss: 0.00\n",
            "Epoch 422/600, Loss: 0.00\n",
            "Epoch 423/600, Loss: 0.00\n",
            "Epoch 424/600, Loss: 0.00\n",
            "Epoch 425/600, Loss: 0.00\n",
            "Epoch 426/600, Loss: 0.00\n",
            "Epoch 427/600, Loss: 0.00\n",
            "Epoch 428/600, Loss: 0.00\n",
            "Epoch 429/600, Loss: 0.00\n",
            "Epoch 430/600, Loss: 0.00\n",
            "Epoch 431/600, Loss: 0.00\n",
            "Epoch 432/600, Loss: 0.00\n",
            "Epoch 433/600, Loss: 0.00\n",
            "Epoch 434/600, Loss: 0.00\n",
            "Epoch 435/600, Loss: 0.00\n",
            "Epoch 436/600, Loss: 0.00\n",
            "Epoch 437/600, Loss: 0.00\n",
            "Epoch 438/600, Loss: 0.00\n",
            "Epoch 439/600, Loss: 0.00\n",
            "Epoch 440/600, Loss: 0.00\n",
            "Epoch 441/600, Loss: 0.00\n",
            "Epoch 442/600, Loss: 0.00\n",
            "Epoch 443/600, Loss: 0.00\n",
            "Epoch 444/600, Loss: 0.00\n",
            "Epoch 445/600, Loss: 0.00\n",
            "Epoch 446/600, Loss: 0.00\n",
            "Epoch 447/600, Loss: 0.00\n",
            "Epoch 448/600, Loss: 0.00\n",
            "Epoch 449/600, Loss: 0.00\n",
            "Epoch 450/600, Loss: 0.00\n",
            "Epoch 451/600, Loss: 0.00\n",
            "Epoch 452/600, Loss: 0.00\n",
            "Epoch 453/600, Loss: 0.00\n",
            "Epoch 454/600, Loss: 0.00\n",
            "Epoch 455/600, Loss: 0.00\n",
            "Epoch 456/600, Loss: 0.00\n",
            "Epoch 457/600, Loss: 0.00\n",
            "Epoch 458/600, Loss: 0.00\n",
            "Epoch 459/600, Loss: 0.00\n",
            "Epoch 460/600, Loss: 0.00\n",
            "Epoch 461/600, Loss: 0.00\n",
            "Epoch 462/600, Loss: 0.00\n",
            "Epoch 463/600, Loss: 0.00\n",
            "Epoch 464/600, Loss: 0.00\n",
            "Epoch 465/600, Loss: 0.00\n",
            "Epoch 466/600, Loss: 0.00\n",
            "Epoch 467/600, Loss: 0.00\n",
            "Epoch 468/600, Loss: 0.00\n",
            "Epoch 469/600, Loss: 0.00\n",
            "Epoch 470/600, Loss: 0.00\n",
            "Epoch 471/600, Loss: 0.00\n",
            "Epoch 472/600, Loss: 0.00\n",
            "Epoch 473/600, Loss: 0.00\n",
            "Epoch 474/600, Loss: 0.00\n",
            "Epoch 475/600, Loss: 0.00\n",
            "Epoch 476/600, Loss: 0.00\n",
            "Epoch 477/600, Loss: 0.00\n",
            "Epoch 478/600, Loss: 0.00\n",
            "Epoch 479/600, Loss: 0.00\n",
            "Epoch 480/600, Loss: 0.00\n",
            "Epoch 481/600, Loss: 0.00\n",
            "Epoch 482/600, Loss: 0.00\n",
            "Epoch 483/600, Loss: 0.00\n",
            "Epoch 484/600, Loss: 0.00\n",
            "Epoch 485/600, Loss: 0.00\n",
            "Epoch 486/600, Loss: 0.00\n",
            "Epoch 487/600, Loss: 0.00\n",
            "Epoch 488/600, Loss: 0.00\n",
            "Epoch 489/600, Loss: 0.00\n",
            "Epoch 490/600, Loss: 0.00\n",
            "Epoch 491/600, Loss: 0.00\n",
            "Epoch 492/600, Loss: 0.00\n",
            "Epoch 493/600, Loss: 0.00\n",
            "Epoch 494/600, Loss: 0.00\n",
            "Epoch 495/600, Loss: 0.00\n",
            "Epoch 496/600, Loss: 0.00\n",
            "Epoch 497/600, Loss: 0.00\n",
            "Epoch 498/600, Loss: 0.00\n",
            "Epoch 499/600, Loss: 0.00\n",
            "Epoch 500/600, Loss: 0.00\n",
            "Epoch 501/600, Loss: 0.00\n",
            "Epoch 502/600, Loss: 0.00\n",
            "Epoch 503/600, Loss: 0.00\n",
            "Epoch 504/600, Loss: 0.00\n",
            "Epoch 505/600, Loss: 0.00\n",
            "Epoch 506/600, Loss: 0.00\n",
            "Epoch 507/600, Loss: 0.00\n",
            "Epoch 508/600, Loss: 0.00\n",
            "Epoch 509/600, Loss: 0.00\n",
            "Epoch 510/600, Loss: 0.00\n",
            "Epoch 511/600, Loss: 0.00\n",
            "Epoch 512/600, Loss: 0.00\n",
            "Epoch 513/600, Loss: 0.00\n",
            "Epoch 514/600, Loss: 0.00\n",
            "Epoch 515/600, Loss: 0.00\n",
            "Epoch 516/600, Loss: 0.00\n",
            "Epoch 517/600, Loss: 0.00\n",
            "Epoch 518/600, Loss: 0.00\n",
            "Epoch 519/600, Loss: 0.00\n",
            "Epoch 520/600, Loss: 0.00\n",
            "Epoch 521/600, Loss: 0.00\n",
            "Epoch 522/600, Loss: 0.00\n",
            "Epoch 523/600, Loss: 0.00\n",
            "Epoch 524/600, Loss: 0.00\n",
            "Epoch 525/600, Loss: 0.00\n",
            "Epoch 526/600, Loss: 0.00\n",
            "Epoch 527/600, Loss: 0.00\n",
            "Epoch 528/600, Loss: 0.00\n",
            "Epoch 529/600, Loss: 0.00\n",
            "Epoch 530/600, Loss: 0.00\n",
            "Epoch 531/600, Loss: 0.00\n",
            "Epoch 532/600, Loss: 0.00\n",
            "Epoch 533/600, Loss: 0.00\n",
            "Epoch 534/600, Loss: 0.00\n",
            "Epoch 535/600, Loss: 0.00\n",
            "Epoch 536/600, Loss: 0.00\n",
            "Epoch 537/600, Loss: 0.00\n",
            "Epoch 538/600, Loss: 0.00\n",
            "Epoch 539/600, Loss: 0.00\n",
            "Epoch 540/600, Loss: 0.00\n",
            "Epoch 541/600, Loss: 0.00\n",
            "Epoch 542/600, Loss: 0.00\n",
            "Epoch 543/600, Loss: 0.00\n",
            "Epoch 544/600, Loss: 0.00\n",
            "Epoch 545/600, Loss: 0.00\n",
            "Epoch 546/600, Loss: 0.00\n",
            "Epoch 547/600, Loss: 0.00\n",
            "Epoch 548/600, Loss: 0.00\n",
            "Epoch 549/600, Loss: 0.00\n",
            "Epoch 550/600, Loss: 0.00\n",
            "Epoch 551/600, Loss: 0.00\n",
            "Epoch 552/600, Loss: 0.00\n",
            "Epoch 553/600, Loss: 0.00\n",
            "Epoch 554/600, Loss: 0.00\n",
            "Epoch 555/600, Loss: 0.00\n",
            "Epoch 556/600, Loss: 0.00\n",
            "Epoch 557/600, Loss: 0.00\n",
            "Epoch 558/600, Loss: 0.00\n",
            "Epoch 559/600, Loss: 0.00\n",
            "Epoch 560/600, Loss: 0.00\n",
            "Epoch 561/600, Loss: 0.00\n",
            "Epoch 562/600, Loss: 0.00\n",
            "Epoch 563/600, Loss: 0.00\n",
            "Epoch 564/600, Loss: 0.00\n",
            "Epoch 565/600, Loss: 0.00\n",
            "Epoch 566/600, Loss: 0.00\n",
            "Epoch 567/600, Loss: 0.00\n",
            "Epoch 568/600, Loss: 0.00\n",
            "Epoch 569/600, Loss: 0.00\n",
            "Epoch 570/600, Loss: 0.00\n",
            "Epoch 571/600, Loss: 0.00\n",
            "Epoch 572/600, Loss: 0.00\n",
            "Epoch 573/600, Loss: 0.00\n",
            "Epoch 574/600, Loss: 0.00\n",
            "Epoch 575/600, Loss: 0.00\n",
            "Epoch 576/600, Loss: 0.00\n",
            "Epoch 577/600, Loss: 0.00\n",
            "Epoch 578/600, Loss: 0.00\n",
            "Epoch 579/600, Loss: 0.00\n",
            "Epoch 580/600, Loss: 0.00\n",
            "Epoch 581/600, Loss: 0.00\n",
            "Epoch 582/600, Loss: 0.00\n",
            "Epoch 583/600, Loss: 0.00\n",
            "Epoch 584/600, Loss: 0.00\n",
            "Epoch 585/600, Loss: 0.00\n",
            "Epoch 586/600, Loss: 0.00\n",
            "Epoch 587/600, Loss: 0.00\n",
            "Epoch 588/600, Loss: 0.00\n",
            "Epoch 589/600, Loss: 0.00\n",
            "Epoch 590/600, Loss: 0.00\n",
            "Epoch 591/600, Loss: 0.00\n",
            "Epoch 592/600, Loss: 0.00\n",
            "Epoch 593/600, Loss: 0.00\n",
            "Epoch 594/600, Loss: 0.00\n",
            "Epoch 595/600, Loss: 0.00\n",
            "Epoch 596/600, Loss: 0.00\n",
            "Epoch 597/600, Loss: 0.00\n",
            "Epoch 598/600, Loss: 0.00\n",
            "Epoch 599/600, Loss: 0.00\n",
            "Epoch 600/600, Loss: 0.00\n"
          ]
        }
      ]
    },
    {
      "cell_type": "code",
      "source": [
        "plt.plot(range(1, len(loss_each_epoch_MLP) + 1), loss_each_epoch_MLP)\n",
        "plt.xlabel('Epoch')\n",
        "plt.ylabel('Loss')\n",
        "plt.title('MLP')\n",
        "plt.show()"
      ],
      "metadata": {
        "id": "46kEeCE4j9AP",
        "colab": {
          "base_uri": "https://localhost:8080/",
          "height": 295
        },
        "outputId": "8a3b709f-4e79-4a88-e4c8-f90fb6dfe3cb"
      },
      "execution_count": 40,
      "outputs": [
        {
          "output_type": "display_data",
          "data": {
            "text/plain": [
              "<Figure size 432x288 with 1 Axes>"
            ],
            "image/png": "[encoded data removed]"
          },
          "metadata": {
            "needs_background": "light"
          }
        }
      ]
    },
    {
      "cell_type": "code",
      "source": [
        "print('Multi Layer Perceptron (Train Accuracy)')\n",
        "model_evaluation(train_loader, clf_MLP)"
      ],
      "metadata": {
        "id": "IynO3NcfyT0O",
        "colab": {
          "base_uri": "https://localhost:8080/"
        },
        "outputId": "be69541d-ebc4-4653-e303-22017864299d"
      },
      "execution_count": 41,
      "outputs": [
        {
          "output_type": "stream",
          "name": "stdout",
          "text": [
            "Multi Layer Perceptron (Train Accuracy)\n",
            "We got 457/457 correct. Accuracy = 100.00%\n"
          ]
        }
      ]
    },
    {
      "cell_type": "code",
      "source": [
        "print('Multi Layer Perceptron (Test Accuracy)')\n",
        "model_evaluation(test_loader, clf_MLP)"
      ],
      "metadata": {
        "id": "v7izp5kKUb7q",
        "colab": {
          "base_uri": "https://localhost:8080/"
        },
        "outputId": "dd74683f-2172-4466-8034-ac206959832b"
      },
      "execution_count": 42,
      "outputs": [
        {
          "output_type": "stream",
          "name": "stdout",
          "text": [
            "Multi Layer Perceptron (Test Accuracy)\n",
            "We got 145/197 correct. Accuracy = 73.60%\n"
          ]
        }
      ]
    },
    {
      "cell_type": "code",
      "source": [
        "ROW_IMG, N_ROWS = 3, 2\n",
        "\n",
        "fig = plt.figure()\n",
        "for index in range(1, ROW_IMG * N_ROWS + 1):\n",
        "    plt.subplot(N_ROWS, ROW_IMG, index)\n",
        "    plt.axis('off')\n",
        "    plt.imshow(test_dataset[index][0].squeeze(), cmap='gray_r')\n",
        "    \n",
        "    with torch.no_grad():\n",
        "        clf_MLP.eval()\n",
        "        X = test_dataset[index][0].reshape(test_dataset[index][0].shape[0], -1).to(device)\n",
        "        _, probs = clf_MLP(X)\n",
        "    title = f'Predict: {le.inverse_transform([torch.argmax(probs).item()])[0]} ({torch.max(probs * 100):.0f}%)\\n True Label: {le.inverse_transform([test_dataset[index][-1]])[0]}'\n",
        "    \n",
        "    plt.title(title, fontsize=7)\n",
        "plt.show()"
      ],
      "metadata": {
        "id": "t6lEF38rx5VC",
        "colab": {
          "base_uri": "https://localhost:8080/",
          "height": 267
        },
        "outputId": "ddd96ca4-fe4e-488c-87fd-bc7ace1e4100"
      },
      "execution_count": 43,
      "outputs": [
        {
          "output_type": "display_data",
          "data": {
            "text/plain": [
              "<Figure size 432x288 with 6 Axes>"
            ],
            "image/png": "[encoded data removed]"
          },
          "metadata": {
            "needs_background": "light"
          }
        }
      ]
    }
  ]
}